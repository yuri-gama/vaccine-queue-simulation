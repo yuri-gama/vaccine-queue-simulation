{
 "cells": [
  {
   "cell_type": "code",
   "execution_count": 8,
   "metadata": {},
   "outputs": [
    {
     "ename": "ERROR",
     "evalue": "Error in library(\"rjson\"): there is no package called 'rjson'\n",
     "output_type": "error",
     "traceback": [
      "Error in library(\"rjson\"): there is no package called 'rjson'\nTraceback:\n",
      "1. library(\"rjson\")"
     ]
    }
   ],
   "source": [
    "library(RJSONIO) # reads json files\n",
    "# reads process parameters\n",
    "distribution_parameters <- fromJSON(\"parameters.json\")\n",
    "\n",
    "arrival_lambda <- distribution_parameters[[\"arrival\"]][[1]][[\"lambda\"]]\n",
    "\n",
    "registration_shape <- distribution_parameters[[\"registration\"]][[1]][[\"shape\"]]\n",
    "registration_mean <- distribution_parameters[[\"registration\"]][[1]][[\"mean\"]]\n",
    "registration_meanlog <- log(registration_mean)\n",
    "registration_sdlog <- log(registration_shape)"
   ]
  }
 ],
 "metadata": {
  "kernelspec": {
   "display_name": "R",
   "name": "ir"
  },
  "language_info": {
   "name": "R"
  },
  "orig_nbformat": 4
 },
 "nbformat": 4,
 "nbformat_minor": 2
}

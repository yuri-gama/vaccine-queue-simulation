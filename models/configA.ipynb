{
 "cells": [
  {
   "cell_type": "code",
   "execution_count": 10,
   "metadata": {},
   "outputs": [
    {
     "name": "stdout",
     "output_type": "stream",
     "text": [
      "[1] \"running\"\n",
      "[1] \"rodando main\"\n"
     ]
    }
   ],
   "source": [
    "source(\"main_config_a.R\", encoding=\"utf-8\")"
   ]
  },
  {
   "cell_type": "code",
   "execution_count": 2,
   "metadata": {},
   "outputs": [
    {
     "data": {
      "text/html": [
       "<strong>png:</strong> 2"
      ],
      "text/latex": [
       "\\textbf{png:} 2"
      ],
      "text/markdown": [
       "**png:** 2"
      ],
      "text/plain": [
       "png \n",
       "  2 "
      ]
     },
     "metadata": {},
     "output_type": "display_data"
    }
   ],
   "source": [
    "png(\"./img/configa/fila_primeiro_estagio.png\")\n",
    "vector_times <- (c(0:((17-8)*2))*0.5 + 8)*3600\n",
    "text_vector_times <- hms::as_hms(vector_times)\n",
    "\n",
    "text_vector_times <- c(\"8h\", \"8h30\", \"9h\", \"9h30\", \"10h\", \"10h30\", \"11h\", \"11h30\", \"12h\", \"12h30\", \"13h\", \"13h30\", \"14h\", \"14h30\",\n",
    "                         \"15h\", \"15h30\", \"16h\", \"16h30\", \"17h\")\n",
    "# Histogramas do primeiro estagio\n",
    "plot((lines[[1]]$t), (lines[[1]]$line_1), type = \"s\",\n",
    "  xlab = 'Hora ao longo do dia', ylab = 'n', main = 'Fila documentação', col = rgb(0, 0, 0, 0.1), xaxt = \"n\", ylim = c(0,360), xlim = c(0, (17-8)*3600))\n",
    "\n",
    "axis(1,                                                   # Add dates to x-axis\n",
    "     at = (vector_times - 28800), labels = text_vector_times, cex.axis = 0.75)\n",
    "\n",
    "for (i in 2:Nrep){\n",
    "  lines((lines[[i]]$t), (lines[[i]]$line_1), col = rgb(0, 0, 0, 0.1))\n",
    "}\n",
    "\n",
    "# abline(v = (t.fechou-8)*3600, lw = 2, col = 'red')\n",
    "abline(v = (t.fechou-8)*3600 , lw = 2, col = 'green')\n",
    "\n",
    "dev.off()\n"
   ]
  },
  {
   "cell_type": "code",
   "execution_count": 3,
   "metadata": {},
   "outputs": [
    {
     "data": {
      "text/html": [
       "<strong>png:</strong> 2"
      ],
      "text/latex": [
       "\\textbf{png:} 2"
      ],
      "text/markdown": [
       "**png:** 2"
      ],
      "text/plain": [
       "png \n",
       "  2 "
      ]
     },
     "metadata": {},
     "output_type": "display_data"
    },
    {
     "data": {
      "text/plain": [
       "   Min. 1st Qu.  Median    Mean 3rd Qu.    Max. \n",
       "  197.0   211.0   213.0   213.7   217.0   228.0 "
      ]
     },
     "metadata": {},
     "output_type": "display_data"
    },
    {
     "data": {
      "text/html": [
       "<span style=white-space:pre-wrap>'var:  24.1698245614035'</span>"
      ],
      "text/latex": [
       "'var:  24.1698245614035'"
      ],
      "text/markdown": [
       "<span style=white-space:pre-wrap>'var:  24.1698245614035'</span>"
      ],
      "text/plain": [
       "[1] \"var:  24.1698245614035\""
      ]
     },
     "metadata": {},
     "output_type": "display_data"
    },
    {
     "data": {
      "text/html": [
       "<span style=white-space:pre-wrap>'desvio padrão:  4.91628157873443'</span>"
      ],
      "text/latex": [
       "'desvio padrão:  4.91628157873443'"
      ],
      "text/markdown": [
       "<span style=white-space:pre-wrap>'desvio padrão:  4.91628157873443'</span>"
      ],
      "text/plain": [
       "[1] \"desvio padrão:  4.91628157873443\""
      ]
     },
     "metadata": {},
     "output_type": "display_data"
    }
   ],
   "source": [
    "\n",
    "png(\"./img/configa/pacientes_atendidos.png\")\n",
    "par(mfrow = c(1,1))\n",
    "hist(n.pac, \n",
    "     col = \"gray\", \n",
    "     main = \"No. de pacientes atendidos\",\n",
    "     xlab =\"\")\n",
    "\n",
    "abline(v   = quantile(n.pac, c(0.025, 0.5, 0.975)), \n",
    "       col = c(4, 2, 4), \n",
    "       lty = c(2, 1, 2), \n",
    "       lwd = 2)\n",
    "  \n",
    "dev.off()      \n",
    " \n",
    "summary(n.pac)\n",
    "paste(\"var: \", var(n.pac))\n",
    "paste(\"desvio padrão: \", sqrt(var(n.pac)))\n",
    "\n"
   ]
  },
  {
   "cell_type": "code",
   "execution_count": 4,
   "metadata": {},
   "outputs": [
    {
     "data": {
      "text/html": [
       "<strong>png:</strong> 2"
      ],
      "text/latex": [
       "\\textbf{png:} 2"
      ],
      "text/markdown": [
       "**png:** 2"
      ],
      "text/plain": [
       "png \n",
       "  2 "
      ]
     },
     "metadata": {},
     "output_type": "display_data"
    }
   ],
   "source": [
    "\n",
    "png(\"./img/configa/fila_segundo_estagio.png\")\n",
    "vector_times <- (c(0:((16-8)*8)) + 8)*3600\n",
    "xmax_time <- max(vector_times) - 28800\n",
    "# text_vector_times <- hms::as_hms(vector_times)\n",
    "text_vector_times <- paste((c(0:((16-8)*8)) + 8),\"h\", sep = \"\")\n",
    "\n",
    "par(mfrow = c(1,1))\n",
    "plot((lines2[[1]]$t), (lines2[[1]]$line_1), type = \"s\",\n",
    "  xlab = 'Hora ao longo do dia', ylab = 'n', main = 'Fila médico 1', col = rgb(0, 0, 0, 0.1), xaxt = 'n', ylim = c(0,60), xlim = c(0, (17-8)*3600))\n",
    "axis(1,                                                   # Add dates to x-axis\n",
    "     at = (vector_times - 28800), labels = text_vector_times, cex.axis = 0.75)\n",
    "\n",
    "for (i in 2:Nrep){\n",
    "  lines((lines2[[i]]$t), (lines2[[i]]$line_1), col = rgb(0, 0, 0, 0.1))\n",
    "}\n",
    "\n",
    "abline(v = (t.fechou-8)*3600, lw = 2, col = 'green')\n",
    "\n",
    "dev.off()\n",
    "\n"
   ]
  },
  {
   "cell_type": "code",
   "execution_count": 5,
   "metadata": {},
   "outputs": [
    {
     "data": {
      "text/html": [
       "<strong>png:</strong> 2"
      ],
      "text/latex": [
       "\\textbf{png:} 2"
      ],
      "text/markdown": [
       "**png:** 2"
      ],
      "text/plain": [
       "png \n",
       "  2 "
      ]
     },
     "metadata": {},
     "output_type": "display_data"
    },
    {
     "data": {
      "text/plain": [
       "   Min. 1st Qu.  Median    Mean 3rd Qu.    Max. \n",
       "  17.03   17.29   17.35   17.35   17.42   17.64 "
      ]
     },
     "metadata": {},
     "output_type": "display_data"
    },
    {
     "data": {
      "text/html": [
       "<span style=white-space:pre-wrap>'sd:  0.101229591138871'</span>"
      ],
      "text/latex": [
       "'sd:  0.101229591138871'"
      ],
      "text/markdown": [
       "<span style=white-space:pre-wrap>'sd:  0.101229591138871'</span>"
      ],
      "text/plain": [
       "[1] \"sd:  0.101229591138871\""
      ]
     },
     "metadata": {},
     "output_type": "display_data"
    },
    {
     "data": {
      "text/html": [
       "<span style=white-space:pre-wrap>'var:  0.010247430122143'</span>"
      ],
      "text/latex": [
       "'var:  0.010247430122143'"
      ],
      "text/markdown": [
       "<span style=white-space:pre-wrap>'var:  0.010247430122143'</span>"
      ],
      "text/plain": [
       "[1] \"var:  0.010247430122143\""
      ]
     },
     "metadata": {},
     "output_type": "display_data"
    }
   ],
   "source": [
    "\n",
    "       png(\"./img/configa/tempo_fechamento.png\")\n",
    "       \n",
    "       hist(t.fim2/3600, \n",
    "     col = \"gray\",\n",
    "     main = \"Tempo de Fechamento da Clinica (h)\",\n",
    "     xlab =\"\")\n",
    "abline(v   = quantile(t.fim2/3600, c(0.025, 0.5, 0.975)), \n",
    "       col = c(4, 2, 4), \n",
    "       lty = c(2, 1, 2), \n",
    "       lwd = 2)\n",
    "\n",
    "       dev.off()\n",
    "\n",
    "summary(t.fim2/3600)     \n",
    "paste(\"sd: \", sqrt(var(t.fim2/3600)))\n",
    "paste(\"var: \", var(t.fim2/3600))"
   ]
  },
  {
   "cell_type": "code",
   "execution_count": 6,
   "metadata": {},
   "outputs": [
    {
     "data": {
      "text/html": [
       "<strong>png:</strong> 2"
      ],
      "text/latex": [
       "\\textbf{png:} 2"
      ],
      "text/markdown": [
       "**png:** 2"
      ],
      "text/plain": [
       "png \n",
       "  2 "
      ]
     },
     "metadata": {},
     "output_type": "display_data"
    },
    {
     "data": {
      "text/plain": [
       "   Min. 1st Qu.  Median    Mean 3rd Qu.    Max. \n",
       "  281.0   341.0   358.0   357.7   374.2   434.0 "
      ]
     },
     "metadata": {},
     "output_type": "display_data"
    },
    {
     "data": {
      "text/html": [
       "<span style=white-space:pre-wrap>'sd:  25.3084550049354'</span>"
      ],
      "text/latex": [
       "'sd:  25.3084550049354'"
      ],
      "text/markdown": [
       "<span style=white-space:pre-wrap>'sd:  25.3084550049354'</span>"
      ],
      "text/plain": [
       "[1] \"sd:  25.3084550049354\""
      ]
     },
     "metadata": {},
     "output_type": "display_data"
    },
    {
     "data": {
      "text/html": [
       "<span style=white-space:pre-wrap>'var:  640.517894736842'</span>"
      ],
      "text/latex": [
       "'var:  640.517894736842'"
      ],
      "text/markdown": [
       "<span style=white-space:pre-wrap>'var:  640.517894736842'</span>"
      ],
      "text/plain": [
       "[1] \"var:  640.517894736842\""
      ]
     },
     "metadata": {},
     "output_type": "display_data"
    }
   ],
   "source": [
    "\n",
    "par(mfrow = c(1,1))\n",
    "png(\"./img/configa/nao_atendidos.png\")\n",
    "       hist(n.natendidos, \n",
    "     col = \"gray\",\n",
    "     main = \"Não atendidos\",\n",
    "     xlab =\"\")\n",
    "abline(v   = quantile(n.natendidos, c(0.025, 0.5, 0.975)), \n",
    "       col = c(4, 2, 4), \n",
    "       lty = c(2, 1, 2), \n",
    "       lwd = 2)\n",
    "\n",
    "dev.off()\n",
    "\n",
    "summary(n.natendidos)\n",
    "paste(\"sd: \", sqrt(var(n.natendidos)))\n",
    "paste(\"var: \", var(n.natendidos))\n"
   ]
  },
  {
   "cell_type": "code",
   "execution_count": 7,
   "metadata": {},
   "outputs": [
    {
     "data": {
      "text/html": [
       "<strong>png:</strong> 2"
      ],
      "text/latex": [
       "\\textbf{png:} 2"
      ],
      "text/markdown": [
       "**png:** 2"
      ],
      "text/plain": [
       "png \n",
       "  2 "
      ]
     },
     "metadata": {},
     "output_type": "display_data"
    },
    {
     "data": {
      "text/plain": [
       "   Min. 1st Qu.  Median    Mean 3rd Qu.    Max. \n",
       "  285.0   341.0   358.0   358.1   375.0   434.0 "
      ]
     },
     "metadata": {},
     "output_type": "display_data"
    },
    {
     "data": {
      "text/html": [
       "<span style=white-space:pre-wrap>'sd:  25.2244560487911'</span>"
      ],
      "text/latex": [
       "'sd:  25.2244560487911'"
      ],
      "text/markdown": [
       "<span style=white-space:pre-wrap>'sd:  25.2244560487911'</span>"
      ],
      "text/plain": [
       "[1] \"sd:  25.2244560487911\""
      ]
     },
     "metadata": {},
     "output_type": "display_data"
    },
    {
     "data": {
      "text/html": [
       "<span style=white-space:pre-wrap>'var:  636.273182957393'</span>"
      ],
      "text/latex": [
       "'var:  636.273182957393'"
      ],
      "text/markdown": [
       "<span style=white-space:pre-wrap>'var:  636.273182957393'</span>"
      ],
      "text/plain": [
       "[1] \"var:  636.273182957393\""
      ]
     },
     "metadata": {},
     "output_type": "display_data"
    }
   ],
   "source": [
    "png(\"./img/configa/line_max1.png\")\n",
    "       hist(line.max, \n",
    "     col = \"gray\",\n",
    "     main = \"Tamanho Máx das Filas - Estágio 1\",\n",
    "     xlab =\"\")\n",
    "abline(v   = quantile(line.max, c(0.025, 0.5, 0.975)), \n",
    "       col = c(4, 2, 4), \n",
    "       lty = c(2, 1, 2), \n",
    "       lwd = 2)\n",
    "dev.off()\n",
    "\n",
    "summary(line.max)\n",
    "paste(\"sd: \", sqrt(var(line.max)))\n",
    "paste(\"var: \", var(line.max))"
   ]
  },
  {
   "cell_type": "code",
   "execution_count": 8,
   "metadata": {},
   "outputs": [
    {
     "data": {
      "text/html": [
       "<strong>png:</strong> 2"
      ],
      "text/latex": [
       "\\textbf{png:} 2"
      ],
      "text/markdown": [
       "**png:** 2"
      ],
      "text/plain": [
       "png \n",
       "  2 "
      ]
     },
     "metadata": {},
     "output_type": "display_data"
    },
    {
     "data": {
      "text/plain": [
       "   Min. 1st Qu.  Median    Mean 3rd Qu.    Max. \n",
       "  50.00   54.00   55.00   55.53   57.00   64.00 "
      ]
     },
     "metadata": {},
     "output_type": "display_data"
    },
    {
     "data": {
      "text/html": [
       "<span style=white-space:pre-wrap>'sd:  1.8928105635731'</span>"
      ],
      "text/latex": [
       "'sd:  1.8928105635731'"
      ],
      "text/markdown": [
       "<span style=white-space:pre-wrap>'sd:  1.8928105635731'</span>"
      ],
      "text/plain": [
       "[1] \"sd:  1.8928105635731\""
      ]
     },
     "metadata": {},
     "output_type": "display_data"
    },
    {
     "data": {
      "text/html": [
       "<span style=white-space:pre-wrap>'var:  3.58273182957393'</span>"
      ],
      "text/latex": [
       "'var:  3.58273182957393'"
      ],
      "text/markdown": [
       "<span style=white-space:pre-wrap>'var:  3.58273182957393'</span>"
      ],
      "text/plain": [
       "[1] \"var:  3.58273182957393\""
      ]
     },
     "metadata": {},
     "output_type": "display_data"
    }
   ],
   "source": [
    "png(\"./img/configa/line_max2.png\")\n",
    "       hist(line.max2, \n",
    "     col = \"gray\",\n",
    "     main = \"Tamanho Máx das Filas - Estágio 2\",\n",
    "     xlab =\"\")\n",
    "abline(v   = quantile(line.max2, c(0.025, 0.5, 0.975)), \n",
    "       col = c(4, 2, 4), \n",
    "       lty = c(2, 1, 2), \n",
    "       lwd = 2)\n",
    "dev.off()\n",
    "\n",
    "summary(line.max2)\n",
    "paste(\"sd: \", sqrt(var(line.max2)))\n",
    "paste(\"var: \", var(line.max2))"
   ]
  },
  {
   "cell_type": "code",
   "execution_count": 9,
   "metadata": {},
   "outputs": [
    {
     "data": {
      "text/html": [
       "<strong>png:</strong> 2"
      ],
      "text/latex": [
       "\\textbf{png:} 2"
      ],
      "text/markdown": [
       "**png:** 2"
      ],
      "text/plain": [
       "png \n",
       "  2 "
      ]
     },
     "metadata": {},
     "output_type": "display_data"
    },
    {
     "data": {
      "text/plain": [
       "   Min. 1st Qu.  Median    Mean 3rd Qu.    Max. \n",
       "  335.5   349.8   353.1   353.4   357.2   372.2 "
      ]
     },
     "metadata": {},
     "output_type": "display_data"
    },
    {
     "data": {
      "text/html": [
       "<span style=white-space:pre-wrap>'sd:  5.7066616419677'</span>"
      ],
      "text/latex": [
       "'sd:  5.7066616419677'"
      ],
      "text/markdown": [
       "<span style=white-space:pre-wrap>'sd:  5.7066616419677'</span>"
      ],
      "text/plain": [
       "[1] \"sd:  5.7066616419677\""
      ]
     },
     "metadata": {},
     "output_type": "display_data"
    },
    {
     "data": {
      "text/html": [
       "<span style=white-space:pre-wrap>'var:  32.5659870959054'</span>"
      ],
      "text/latex": [
       "'var:  32.5659870959054'"
      ],
      "text/markdown": [
       "<span style=white-space:pre-wrap>'var:  32.5659870959054'</span>"
      ],
      "text/plain": [
       "[1] \"var:  32.5659870959054\""
      ]
     },
     "metadata": {},
     "output_type": "display_data"
    }
   ],
   "source": [
    "png(\"./img/configa/tempo_medio_servico.png\")\n",
    "par(mfrow = c(1,1))\n",
    "\n",
    "hist(t.total.servico/60, \n",
    "     col = \"gray\",\n",
    "     main = \"Tempo médio de Serviço (min)\",\n",
    "     xlab =\"\")\n",
    "abline(v   = quantile(t.total.servico/60, c(0.025, 0.5, 0.975)), \n",
    "       col = c(4, 2, 4), \n",
    "       lty = c(2, 1, 2), \n",
    "       lwd = 2)\n",
    "\n",
    "dev.off()\n",
    "\n",
    "summary(t.total.servico/60)\n",
    "paste(\"sd: \", sqrt(var(t.total.servico/60)))\n",
    "paste(\"var: \", var(t.total.servico/60))"
   ]
  }
 ],
 "metadata": {
  "kernelspec": {
   "display_name": "R",
   "language": "R",
   "name": "ir"
  },
  "language_info": {
   "codemirror_mode": "r",
   "file_extension": ".r",
   "mimetype": "text/x-r-source",
   "name": "R",
   "pygments_lexer": "r",
   "version": "4.1.0"
  },
  "orig_nbformat": 4
 },
 "nbformat": 4,
 "nbformat_minor": 2
}

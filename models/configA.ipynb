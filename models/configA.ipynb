{
 "cells": [
  {
   "cell_type": "code",
   "execution_count": 1,
   "metadata": {},
   "outputs": [
    {
     "name": "stderr",
     "output_type": "stream",
     "text": [
      "\n",
      "Attaching package: 'dplyr'\n",
      "\n",
      "\n",
      "The following objects are masked from 'package:stats':\n",
      "\n",
      "    filter, lag\n",
      "\n",
      "\n",
      "The following objects are masked from 'package:base':\n",
      "\n",
      "    intersect, setdiff, setequal, union\n",
      "\n",
      "\n",
      "Warning message:\n",
      "\"package 'RJSONIO' was built under R version 4.1.1\"\n"
     ]
    },
    {
     "name": "stdout",
     "output_type": "stream",
     "text": [
      "[1] \"running\"\n",
      "[1] \"rodando main\"\n"
     ]
    }
   ],
   "source": [
    "source(\"main_config_a.R\", encoding=\"utf-8\")"
   ]
  },
  {
   "cell_type": "code",
   "execution_count": 2,
   "metadata": {},
   "outputs": [
    {
     "data": {
      "text/html": [
       "<strong>png:</strong> 2"
      ],
      "text/latex": [
       "\\textbf{png:} 2"
      ],
      "text/markdown": [
       "**png:** 2"
      ],
      "text/plain": [
       "png \n",
       "  2 "
      ]
     },
     "metadata": {},
     "output_type": "display_data"
    }
   ],
   "source": [
    "png(\"../img/configa/fila_primeiro_estagio.png\")\n",
    "vector_times <- (c(0:((17-8)*2))*0.5 + 8)*3600\n",
    "text_vector_times <- hms::as_hms(vector_times)\n",
    "\n",
    "text_vector_times <- c(\"8h\", \"8h30\", \"9h\", \"9h30\", \"10h\", \"10h30\", \"11h\", \"11h30\", \"12h\", \"12h30\", \"13h\", \"13h30\", \"14h\", \"14h30\",\n",
    "                         \"15h\", \"15h30\", \"16h\", \"16h30\", \"17h\")\n",
    "# Histogramas do primeiro estagio\n",
    "plot((lines[[1]]$t), (lines[[1]]$line_1), type = \"s\",\n",
    "  xlab = 'Hora ao longo do dia', ylab = 'n', main = 'Fila documentação', col = rgb(0, 0, 0, 0.1), xaxt = \"n\", ylim = c(0,360), xlim = c(0, (17-8)*3600))\n",
    "\n",
    "axis(1,                                                   # Add dates to x-axis\n",
    "     at = (vector_times - 28800), labels = text_vector_times, cex.axis = 0.75)\n",
    "\n",
    "for (i in 2:Nrep){\n",
    "  lines((lines[[i]]$t), (lines[[i]]$line_1), col = rgb(0, 0, 0, 0.1))\n",
    "}\n",
    "\n",
    "abline(v = (t.fechou-8)*3600 , lw = 2, col = 'green')\n",
    "\n",
    "dev.off()\n"
   ]
  },
  {
   "cell_type": "code",
   "execution_count": 3,
   "metadata": {},
   "outputs": [
    {
     "data": {
      "text/html": [
       "<strong>png:</strong> 2"
      ],
      "text/latex": [
       "\\textbf{png:} 2"
      ],
      "text/markdown": [
       "**png:** 2"
      ],
      "text/plain": [
       "png \n",
       "  2 "
      ]
     },
     "metadata": {},
     "output_type": "display_data"
    },
    {
     "data": {
      "text/plain": [
       "   Min. 1st Qu.  Median    Mean 3rd Qu.    Max. \n",
       "  197.0   211.0   214.0   213.8   217.0   230.0 "
      ]
     },
     "metadata": {},
     "output_type": "display_data"
    },
    {
     "data": {
      "text/html": [
       "<span style=white-space:pre-wrap>'var:  23.8912358082169'</span>"
      ],
      "text/latex": [
       "'var:  23.8912358082169'"
      ],
      "text/markdown": [
       "<span style=white-space:pre-wrap>'var:  23.8912358082169'</span>"
      ],
      "text/plain": [
       "[1] \"var:  23.8912358082169\""
      ]
     },
     "metadata": {},
     "output_type": "display_data"
    },
    {
     "data": {
      "text/html": [
       "<span style=white-space:pre-wrap>'desvio padrão:  4.88786618149648'</span>"
      ],
      "text/latex": [
       "'desvio padrão:  4.88786618149648'"
      ],
      "text/markdown": [
       "<span style=white-space:pre-wrap>'desvio padrão:  4.88786618149648'</span>"
      ],
      "text/plain": [
       "[1] \"desvio padrão:  4.88786618149648\""
      ]
     },
     "metadata": {},
     "output_type": "display_data"
    }
   ],
   "source": [
    "\n",
    "png(\"../img/configa/pacientes_atendidos.png\")\n",
    "par(mfrow = c(1,1))\n",
    "hist(n.pac, \n",
    "     col = \"gray\", \n",
    "     main = \"No. de pacientes atendidos\",\n",
    "     xlab =\"\")\n",
    "\n",
    "abline(v   = quantile(n.pac, c(0.025, 0.5, 0.975)), \n",
    "       col = c(4, 2, 4), \n",
    "       lty = c(2, 1, 2), \n",
    "       lwd = 2)\n",
    "  \n",
    "dev.off()      \n",
    " \n",
    "summary(n.pac)\n",
    "paste(\"var: \", var(n.pac))\n",
    "paste(\"desvio padrão: \", sqrt(var(n.pac)))\n",
    "\n"
   ]
  },
  {
   "cell_type": "code",
   "execution_count": 4,
   "metadata": {},
   "outputs": [
    {
     "data": {
      "text/html": [
       "<strong>png:</strong> 2"
      ],
      "text/latex": [
       "\\textbf{png:} 2"
      ],
      "text/markdown": [
       "**png:** 2"
      ],
      "text/plain": [
       "png \n",
       "  2 "
      ]
     },
     "metadata": {},
     "output_type": "display_data"
    }
   ],
   "source": [
    "\n",
    "png(\"../img/configa/fila_segundo_estagio.png\")\n",
    "vector_times <- (c(0:((16-8)*8)) + 8)*3600\n",
    "xmax_time <- max(vector_times) - 28800\n",
    "# text_vector_times <- hms::as_hms(vector_times)\n",
    "text_vector_times <- paste((c(0:((16-8)*8)) + 8),\"h\", sep = \"\")\n",
    "\n",
    "par(mfrow = c(1,1))\n",
    "plot((lines2[[1]]$t), (lines2[[1]]$line_1), type = \"s\",\n",
    "  xlab = 'Hora ao longo do dia', ylab = 'n', main = 'Fila médico 1', col = rgb(0, 0, 0, 0.1), xaxt = 'n', ylim = c(0,60), xlim = c(0, (17-8)*3600))\n",
    "axis(1,                                                   # Add dates to x-axis\n",
    "     at = (vector_times - 28800), labels = text_vector_times, cex.axis = 0.75)\n",
    "\n",
    "for (i in 2:Nrep){\n",
    "  lines((lines2[[i]]$t), (lines2[[i]]$line_1), col = rgb(0, 0, 0, 0.1))\n",
    "}\n",
    "\n",
    "abline(v = (t.fechou-8)*3600, lw = 2, col = 'green')\n",
    "\n",
    "dev.off()\n",
    "\n"
   ]
  },
  {
   "cell_type": "code",
   "execution_count": 5,
   "metadata": {},
   "outputs": [
    {
     "data": {
      "text/html": [
       "<strong>png:</strong> 2"
      ],
      "text/latex": [
       "\\textbf{png:} 2"
      ],
      "text/markdown": [
       "**png:** 2"
      ],
      "text/plain": [
       "png \n",
       "  2 "
      ]
     },
     "metadata": {},
     "output_type": "display_data"
    },
    {
     "data": {
      "text/plain": [
       "   Min. 1st Qu.  Median    Mean 3rd Qu.    Max. \n",
       "  16.02   16.29   16.35   16.36   16.43   16.81 "
      ]
     },
     "metadata": {},
     "output_type": "display_data"
    },
    {
     "data": {
      "text/html": [
       "<span style=white-space:pre-wrap>'sd:  0.105995057152742'</span>"
      ],
      "text/latex": [
       "'sd:  0.105995057152742'"
      ],
      "text/markdown": [
       "<span style=white-space:pre-wrap>'sd:  0.105995057152742'</span>"
      ],
      "text/plain": [
       "[1] \"sd:  0.105995057152742\""
      ]
     },
     "metadata": {},
     "output_type": "display_data"
    },
    {
     "data": {
      "text/html": [
       "<span style=white-space:pre-wrap>'var:  0.0112349521408131'</span>"
      ],
      "text/latex": [
       "'var:  0.0112349521408131'"
      ],
      "text/markdown": [
       "<span style=white-space:pre-wrap>'var:  0.0112349521408131'</span>"
      ],
      "text/plain": [
       "[1] \"var:  0.0112349521408131\""
      ]
     },
     "metadata": {},
     "output_type": "display_data"
    }
   ],
   "source": [
    "\n",
    "       png(\"../img/configa/tempo_fechamento.png\")\n",
    "       \n",
    "       hist(t.fim2/3600, \n",
    "     col = \"gray\",\n",
    "     main = \"Tempo de Fechamento da Clinica (h)\",\n",
    "     xlab =\"\")\n",
    "abline(v   = quantile(t.fim2/3600, c(0.025, 0.5, 0.975)), \n",
    "       col = c(4, 2, 4), \n",
    "       lty = c(2, 1, 2), \n",
    "       lwd = 2)\n",
    "\n",
    "       dev.off()\n",
    "\n",
    "summary(t.fim2/3600)     \n",
    "paste(\"sd: \", sqrt(var(t.fim2/3600)))\n",
    "paste(\"var: \", var(t.fim2/3600))"
   ]
  },
  {
   "cell_type": "code",
   "execution_count": 6,
   "metadata": {},
   "outputs": [
    {
     "data": {
      "text/html": [
       "<strong>png:</strong> 2"
      ],
      "text/latex": [
       "\\textbf{png:} 2"
      ],
      "text/markdown": [
       "**png:** 2"
      ],
      "text/plain": [
       "png \n",
       "  2 "
      ]
     },
     "metadata": {},
     "output_type": "display_data"
    },
    {
     "data": {
      "text/plain": [
       "   Min. 1st Qu.  Median    Mean 3rd Qu.    Max. \n",
       "    270     341     357     358     374     434 "
      ]
     },
     "metadata": {},
     "output_type": "display_data"
    },
    {
     "data": {
      "text/html": [
       "<span style=white-space:pre-wrap>'sd:  24.8736165010974'</span>"
      ],
      "text/latex": [
       "'sd:  24.8736165010974'"
      ],
      "text/markdown": [
       "<span style=white-space:pre-wrap>'sd:  24.8736165010974'</span>"
      ],
      "text/plain": [
       "[1] \"sd:  24.8736165010974\""
      ]
     },
     "metadata": {},
     "output_type": "display_data"
    },
    {
     "data": {
      "text/html": [
       "<span style=white-space:pre-wrap>'var:  618.696797843666'</span>"
      ],
      "text/latex": [
       "'var:  618.696797843666'"
      ],
      "text/markdown": [
       "<span style=white-space:pre-wrap>'var:  618.696797843666'</span>"
      ],
      "text/plain": [
       "[1] \"var:  618.696797843666\""
      ]
     },
     "metadata": {},
     "output_type": "display_data"
    }
   ],
   "source": [
    "\n",
    "par(mfrow = c(1,1))\n",
    "png(\"../img/configa/nao_atendidos.png\")\n",
    "       hist(n.natendidos, \n",
    "     col = \"gray\",\n",
    "     main = \"Não atendidos\",\n",
    "     xlab =\"\")\n",
    "abline(v   = quantile(n.natendidos, c(0.025, 0.5, 0.975)), \n",
    "       col = c(4, 2, 4), \n",
    "       lty = c(2, 1, 2), \n",
    "       lwd = 2)\n",
    "\n",
    "dev.off()\n",
    "\n",
    "summary(n.natendidos)\n",
    "paste(\"sd: \", sqrt(var(n.natendidos)))\n",
    "paste(\"var: \", var(n.natendidos))\n"
   ]
  },
  {
   "cell_type": "code",
   "execution_count": 7,
   "metadata": {},
   "outputs": [
    {
     "data": {
      "text/html": [
       "<strong>png:</strong> 2"
      ],
      "text/latex": [
       "\\textbf{png:} 2"
      ],
      "text/markdown": [
       "**png:** 2"
      ],
      "text/plain": [
       "png \n",
       "  2 "
      ]
     },
     "metadata": {},
     "output_type": "display_data"
    },
    {
     "data": {
      "text/plain": [
       "   Min. 1st Qu.  Median    Mean 3rd Qu.    Max. \n",
       "  271.0   342.0   358.0   358.4   375.0   434.0 "
      ]
     },
     "metadata": {},
     "output_type": "display_data"
    },
    {
     "data": {
      "text/html": [
       "<span style=white-space:pre-wrap>'sd:  24.8160312962228'</span>"
      ],
      "text/latex": [
       "'sd:  24.8160312962228'"
      ],
      "text/markdown": [
       "<span style=white-space:pre-wrap>'sd:  24.8160312962228'</span>"
      ],
      "text/plain": [
       "[1] \"sd:  24.8160312962228\""
      ]
     },
     "metadata": {},
     "output_type": "display_data"
    },
    {
     "data": {
      "text/html": [
       "<span style=white-space:pre-wrap>'var:  615.835409295107'</span>"
      ],
      "text/latex": [
       "'var:  615.835409295107'"
      ],
      "text/markdown": [
       "<span style=white-space:pre-wrap>'var:  615.835409295107'</span>"
      ],
      "text/plain": [
       "[1] \"var:  615.835409295107\""
      ]
     },
     "metadata": {},
     "output_type": "display_data"
    }
   ],
   "source": [
    "png(\"../img/configa/line_max1.png\")\n",
    "       hist(line.max, \n",
    "     col = \"gray\",\n",
    "     main = \"Tamanho Máx das Filas - Estágio 1\",\n",
    "     xlab =\"\")\n",
    "abline(v   = quantile(line.max, c(0.025, 0.5, 0.975)), \n",
    "       col = c(4, 2, 4), \n",
    "       lty = c(2, 1, 2), \n",
    "       lwd = 2)\n",
    "dev.off()\n",
    "\n",
    "summary(line.max)\n",
    "paste(\"sd: \", sqrt(var(line.max)))\n",
    "paste(\"var: \", var(line.max))"
   ]
  },
  {
   "cell_type": "code",
   "execution_count": 8,
   "metadata": {},
   "outputs": [
    {
     "data": {
      "text/html": [
       "<strong>png:</strong> 2"
      ],
      "text/latex": [
       "\\textbf{png:} 2"
      ],
      "text/markdown": [
       "**png:** 2"
      ],
      "text/plain": [
       "png \n",
       "  2 "
      ]
     },
     "metadata": {},
     "output_type": "display_data"
    },
    {
     "data": {
      "text/plain": [
       "   Min. 1st Qu.  Median    Mean 3rd Qu.    Max. \n",
       "  50.00   54.00   55.00   55.59   57.00   65.00 "
      ]
     },
     "metadata": {},
     "output_type": "display_data"
    },
    {
     "data": {
      "text/html": [
       "<span style=white-space:pre-wrap>'sd:  1.9625842638132'</span>"
      ],
      "text/latex": [
       "'sd:  1.9625842638132'"
      ],
      "text/markdown": [
       "<span style=white-space:pre-wrap>'sd:  1.9625842638132'</span>"
      ],
      "text/plain": [
       "[1] \"sd:  1.9625842638132\""
      ]
     },
     "metadata": {},
     "output_type": "display_data"
    },
    {
     "data": {
      "text/html": [
       "<span style=white-space:pre-wrap>'var:  3.85173699256718'</span>"
      ],
      "text/latex": [
       "'var:  3.85173699256718'"
      ],
      "text/markdown": [
       "<span style=white-space:pre-wrap>'var:  3.85173699256718'</span>"
      ],
      "text/plain": [
       "[1] \"var:  3.85173699256718\""
      ]
     },
     "metadata": {},
     "output_type": "display_data"
    }
   ],
   "source": [
    "png(\"../img/configa/line_max2.png\")\n",
    "       hist(line.max2, \n",
    "     col = \"gray\",\n",
    "     main = \"Tamanho Máx das Filas - Estágio 2\",\n",
    "     xlab =\"\")\n",
    "abline(v   = quantile(line.max2, c(0.025, 0.5, 0.975)), \n",
    "       col = c(4, 2, 4), \n",
    "       lty = c(2, 1, 2), \n",
    "       lwd = 2)\n",
    "dev.off()\n",
    "\n",
    "summary(line.max2)\n",
    "paste(\"sd: \", sqrt(var(line.max2)))\n",
    "paste(\"var: \", var(line.max2))"
   ]
  },
  {
   "cell_type": "code",
   "execution_count": 9,
   "metadata": {},
   "outputs": [
    {
     "data": {
      "text/html": [
       "<strong>png:</strong> 2"
      ],
      "text/latex": [
       "\\textbf{png:} 2"
      ],
      "text/markdown": [
       "**png:** 2"
      ],
      "text/plain": [
       "png \n",
       "  2 "
      ]
     },
     "metadata": {},
     "output_type": "display_data"
    },
    {
     "data": {
      "text/plain": [
       "   Min. 1st Qu.  Median    Mean 3rd Qu.    Max. \n",
       "  335.3   350.2   353.7   353.8   357.6   372.5 "
      ]
     },
     "metadata": {},
     "output_type": "display_data"
    },
    {
     "data": {
      "text/html": [
       "<span style=white-space:pre-wrap>'sd:  5.68298476557505'</span>"
      ],
      "text/latex": [
       "'sd:  5.68298476557505'"
      ],
      "text/markdown": [
       "<span style=white-space:pre-wrap>'sd:  5.68298476557505'</span>"
      ],
      "text/plain": [
       "[1] \"sd:  5.68298476557505\""
      ]
     },
     "metadata": {},
     "output_type": "display_data"
    },
    {
     "data": {
      "text/html": [
       "<span style=white-space:pre-wrap>'var:  32.2963158457581'</span>"
      ],
      "text/latex": [
       "'var:  32.2963158457581'"
      ],
      "text/markdown": [
       "<span style=white-space:pre-wrap>'var:  32.2963158457581'</span>"
      ],
      "text/plain": [
       "[1] \"var:  32.2963158457581\""
      ]
     },
     "metadata": {},
     "output_type": "display_data"
    }
   ],
   "source": [
    "png(\"../img/configa/tempo_medio_servico.png\")\n",
    "par(mfrow = c(1,1))\n",
    "\n",
    "hist(t.total.servico/60, \n",
    "     col = \"gray\",\n",
    "     main = \"Tempo médio de Serviço (min)\",\n",
    "     xlab =\"\")\n",
    "abline(v   = quantile(t.total.servico/60, c(0.025, 0.5, 0.975)), \n",
    "       col = c(4, 2, 4), \n",
    "       lty = c(2, 1, 2), \n",
    "       lwd = 2)\n",
    "\n",
    "dev.off()\n",
    "\n",
    "summary(t.total.servico/60)\n",
    "paste(\"sd: \", sqrt(var(t.total.servico/60)))\n",
    "paste(\"var: \", var(t.total.servico/60))"
   ]
  }
 ],
 "metadata": {
  "kernelspec": {
   "display_name": "R",
   "language": "R",
   "name": "ir"
  },
  "language_info": {
   "codemirror_mode": "r",
   "file_extension": ".r",
   "mimetype": "text/x-r-source",
   "name": "R",
   "pygments_lexer": "r",
   "version": "4.1.0"
  },
  "orig_nbformat": 4
 },
 "nbformat": 4,
 "nbformat_minor": 2
}

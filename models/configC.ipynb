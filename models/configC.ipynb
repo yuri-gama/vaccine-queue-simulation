{
 "cells": [
  {
   "cell_type": "code",
   "execution_count": 1,
   "metadata": {},
   "outputs": [
    {
     "name": "stderr",
     "output_type": "stream",
     "text": [
      "\n",
      "Attaching package: 'dplyr'\n",
      "\n",
      "\n",
      "The following objects are masked from 'package:stats':\n",
      "\n",
      "    filter, lag\n",
      "\n",
      "\n",
      "The following objects are masked from 'package:base':\n",
      "\n",
      "    intersect, setdiff, setequal, union\n",
      "\n",
      "\n",
      "Warning message:\n",
      "\"package 'RJSONIO' was built under R version 4.1.1\"\n"
     ]
    },
    {
     "name": "stdout",
     "output_type": "stream",
     "text": [
      "[1] \"running\"\n",
      "[1] \"rodando main\"\n"
     ]
    }
   ],
   "source": [
    "source(\"main_config_c.R\", encoding=\"utf-8\")"
   ]
  },
  {
   "cell_type": "code",
   "execution_count": 2,
   "metadata": {},
   "outputs": [
    {
     "data": {
      "text/html": [
       "<strong>png:</strong> 2"
      ],
      "text/latex": [
       "\\textbf{png:} 2"
      ],
      "text/markdown": [
       "**png:** 2"
      ],
      "text/plain": [
       "png \n",
       "  2 "
      ]
     },
     "metadata": {},
     "output_type": "display_data"
    }
   ],
   "source": [
    "png(\"../img/configc/fila_1.png\")\n",
    "vector_times <- (c(0:((17-8)*2))*0.5 + 8)*3600\n",
    "text_vector_times <- hms::as_hms(vector_times)\n",
    "\n",
    "text_vector_times <- c(\"8h\", \"8h30\", \"9h\", \"9h30\", \"10h\", \"10h30\", \"11h\", \"11h30\", \"12h\", \"12h30\", \"13h\", \"13h30\", \"14h\", \"14h30\",\n",
    "                         \"15h\", \"15h30\", \"16h\", \"16h30\", \"17h\")\n",
    "\n",
    "\n",
    "# Histogramas do primeiro estagio\n",
    "plot((lines[[1]]$t), (lines[[1]]$line_1), type = \"s\",\n",
    "  xlab = 't(s)', ylab = 'n', main = 'fila 1', col = rgb(0, 0, 0, 0.1), xaxt = \"n\")\n",
    "\n",
    "axis(1,                                                   # Add dates to x-axis\n",
    "     at = (vector_times - 28800), labels = text_vector_times, cex.axis = 0.75)\n",
    "\n",
    "for (i in 2:Nrep){\n",
    "  lines((lines[[i]]$t), (lines[[i]]$line_1), col = rgb(0, 0, 0, 0.1))\n",
    "}\n",
    "\n",
    "abline(v = 8.5*3600, lw = 2, col = 'red')\n",
    "abline(v = 8.5*3600 + 30*60, lw = 2, col = 'green')\n",
    "\n",
    "dev.off()\n",
    "\n"
   ]
  },
  {
   "cell_type": "code",
   "execution_count": 3,
   "metadata": {},
   "outputs": [
    {
     "data": {
      "text/html": [
       "<strong>png:</strong> 2"
      ],
      "text/latex": [
       "\\textbf{png:} 2"
      ],
      "text/markdown": [
       "**png:** 2"
      ],
      "text/plain": [
       "png \n",
       "  2 "
      ]
     },
     "metadata": {},
     "output_type": "display_data"
    }
   ],
   "source": [
    "png(\"../img/configc/fila_2.png\")\n",
    "\n",
    "plot((lines[[1]]$t), (lines[[1]]$line_2), type = \"s\",\n",
    "  xlab = 't(s)', ylab = 'n', main = 'fila 2', col = rgb(0, 0, 0, 0.1), xaxt = 'n')\n",
    "axis(1,                                                   # Add dates to x-axis\n",
    "     at = (vector_times - 28800), labels = text_vector_times, cex.axis = 0.75)\n",
    "\n",
    "\n",
    "for (i in 2:Nrep){\n",
    "  lines((lines[[i]]$t), (lines[[i]]$line_2), col = rgb(0, 0, 0, 0.1))\n",
    "}\n",
    "\n",
    "abline(v = 8.5*3600, lw = 2, col = 'red')\n",
    "abline(v = 8.5*3600 + 30*60, lw = 2, col = 'green')\n",
    "\n",
    "dev.off()"
   ]
  },
  {
   "cell_type": "code",
   "execution_count": 4,
   "metadata": {},
   "outputs": [
    {
     "data": {
      "text/html": [
       "<strong>png:</strong> 2"
      ],
      "text/latex": [
       "\\textbf{png:} 2"
      ],
      "text/markdown": [
       "**png:** 2"
      ],
      "text/plain": [
       "png \n",
       "  2 "
      ]
     },
     "metadata": {},
     "output_type": "display_data"
    },
    {
     "data": {
      "text/plain": [
       "   Min. 1st Qu.  Median    Mean 3rd Qu.    Max. \n",
       "  214.0   225.0   228.0   227.7   231.0   242.0 "
      ]
     },
     "metadata": {},
     "output_type": "display_data"
    },
    {
     "data": {
      "text/html": [
       "<span style=white-space:pre-wrap>'var:  19.8421919464184'</span>"
      ],
      "text/latex": [
       "'var:  19.8421919464184'"
      ],
      "text/markdown": [
       "<span style=white-space:pre-wrap>'var:  19.8421919464184'</span>"
      ],
      "text/plain": [
       "[1] \"var:  19.8421919464184\""
      ]
     },
     "metadata": {},
     "output_type": "display_data"
    },
    {
     "data": {
      "text/html": [
       "<span style=white-space:pre-wrap>'desvio padrão:  4.45445753671739'</span>"
      ],
      "text/latex": [
       "'desvio padrão:  4.45445753671739'"
      ],
      "text/markdown": [
       "<span style=white-space:pre-wrap>'desvio padrão:  4.45445753671739'</span>"
      ],
      "text/plain": [
       "[1] \"desvio padrão:  4.45445753671739\""
      ]
     },
     "metadata": {},
     "output_type": "display_data"
    }
   ],
   "source": [
    "\n",
    "png(\"../img/configc/pacientes_atendidos.png\")\n",
    "\n",
    "hist(n.pac, \n",
    "     col = \"gray\", \n",
    "     main = \"No. de pacientes atendidos\",\n",
    "     xlab =\"\")\n",
    "\n",
    "abline(v   = quantile(n.pac, c(0.025, 0.5, 0.975)), \n",
    "       col = c(4, 2, 4), \n",
    "       lty = c(2, 1, 2), \n",
    "       lwd = 2)\n",
    "\n",
    "dev.off()      \n",
    " \n",
    "summary(n.pac)\n",
    "paste(\"var: \", var(n.pac))\n",
    "paste(\"desvio padrão: \", sqrt(var(n.pac)))\n",
    "   "
   ]
  },
  {
   "cell_type": "code",
   "execution_count": 5,
   "metadata": {},
   "outputs": [
    {
     "data": {
      "text/html": [
       "<strong>png:</strong> 2"
      ],
      "text/latex": [
       "\\textbf{png:} 2"
      ],
      "text/markdown": [
       "**png:** 2"
      ],
      "text/plain": [
       "png \n",
       "  2 "
      ]
     },
     "metadata": {},
     "output_type": "display_data"
    },
    {
     "data": {
      "text/plain": [
       "   Min. 1st Qu.  Median    Mean 3rd Qu.    Max. \n",
       "  17.00   17.03   17.05   17.05   17.07   17.17 "
      ]
     },
     "metadata": {},
     "output_type": "display_data"
    },
    {
     "data": {
      "text/html": [
       "<span style=white-space:pre-wrap>'sd:  0.0287478793256242'</span>"
      ],
      "text/latex": [
       "'sd:  0.0287478793256242'"
      ],
      "text/markdown": [
       "<span style=white-space:pre-wrap>'sd:  0.0287478793256242'</span>"
      ],
      "text/plain": [
       "[1] \"sd:  0.0287478793256242\""
      ]
     },
     "metadata": {},
     "output_type": "display_data"
    },
    {
     "data": {
      "text/html": [
       "<span style=white-space:pre-wrap>'var:  0.000826440565720649'</span>"
      ],
      "text/latex": [
       "'var:  0.000826440565720649'"
      ],
      "text/markdown": [
       "<span style=white-space:pre-wrap>'var:  0.000826440565720649'</span>"
      ],
      "text/plain": [
       "[1] \"var:  0.000826440565720649\""
      ]
     },
     "metadata": {},
     "output_type": "display_data"
    }
   ],
   "source": [
    "    \n",
    "png(\"../img/configc/tempo_fechamento.png\")\n",
    "\n",
    "       hist(t.fim/3600, \n",
    "     col = \"gray\",\n",
    "     main = \"Tempo de Fechamento da Clinica (h)\",\n",
    "     xlab =\"\")\n",
    "abline(v   = quantile(t.fim/3600, c(0.025, 0.5, 0.975)), \n",
    "       col = c(4, 2, 4), \n",
    "       lty = c(2, 1, 2), \n",
    "       lwd = 2)\n",
    "\n",
    "dev.off()\n",
    "summary(t.fim/3600)     \n",
    "paste(\"sd: \", sqrt(var(t.fim/3600)))\n",
    "paste(\"var: \", var(t.fim/3600))"
   ]
  },
  {
   "cell_type": "code",
   "execution_count": 6,
   "metadata": {},
   "outputs": [
    {
     "data": {
      "text/html": [
       "<strong>png:</strong> 2"
      ],
      "text/latex": [
       "\\textbf{png:} 2"
      ],
      "text/markdown": [
       "**png:** 2"
      ],
      "text/plain": [
       "png \n",
       "  2 "
      ]
     },
     "metadata": {},
     "output_type": "display_data"
    },
    {
     "data": {
      "text/plain": [
       "   Min. 1st Qu.  Median    Mean 3rd Qu.    Max. \n",
       "  185.1   203.6   208.0   207.8   212.0   225.6 "
      ]
     },
     "metadata": {},
     "output_type": "display_data"
    },
    {
     "data": {
      "text/html": [
       "<span style=white-space:pre-wrap>'sd:  6.06633101027227'</span>"
      ],
      "text/latex": [
       "'sd:  6.06633101027227'"
      ],
      "text/markdown": [
       "<span style=white-space:pre-wrap>'sd:  6.06633101027227'</span>"
      ],
      "text/plain": [
       "[1] \"sd:  6.06633101027227\""
      ]
     },
     "metadata": {},
     "output_type": "display_data"
    },
    {
     "data": {
      "text/html": [
       "<span style=white-space:pre-wrap>'var:  36.800371926191'</span>"
      ],
      "text/latex": [
       "'var:  36.800371926191'"
      ],
      "text/markdown": [
       "<span style=white-space:pre-wrap>'var:  36.800371926191'</span>"
      ],
      "text/plain": [
       "[1] \"var:  36.800371926191\""
      ]
     },
     "metadata": {},
     "output_type": "display_data"
    }
   ],
   "source": [
    "png(\"../img/configc/tempo_medio_servico.png\")\n",
    "par(mfrow = c(1,1))\n",
    "\n",
    "hist(t.total.servico/60, \n",
    "     col = \"gray\",\n",
    "     main = \"Tempo médio de Serviço (min)\",\n",
    "     xlab =\"\")\n",
    "abline(v   = quantile(t.total.servico/60, c(0.025, 0.5, 0.975)), \n",
    "       col = c(4, 2, 4), \n",
    "       lty = c(2, 1, 2), \n",
    "       lwd = 2)\n",
    "\n",
    "dev.off()\n",
    "\n",
    "summary(t.total.servico/60)\n",
    "paste(\"sd: \", sqrt(var(t.total.servico/60)))\n",
    "paste(\"var: \", var(t.total.servico/60))"
   ]
  },
  {
   "cell_type": "code",
   "execution_count": 7,
   "metadata": {},
   "outputs": [
    {
     "data": {
      "text/html": [
       "<strong>png:</strong> 2"
      ],
      "text/latex": [
       "\\textbf{png:} 2"
      ],
      "text/markdown": [
       "**png:** 2"
      ],
      "text/plain": [
       "png \n",
       "  2 "
      ]
     },
     "metadata": {},
     "output_type": "display_data"
    },
    {
     "data": {
      "text/plain": [
       "   Min. 1st Qu.  Median    Mean 3rd Qu.    Max. \n",
       "  288.0   328.0   338.0   338.3   349.0   389.0 "
      ]
     },
     "metadata": {},
     "output_type": "display_data"
    },
    {
     "data": {
      "text/html": [
       "<span style=white-space:pre-wrap>'sd:  15.5558056505879'</span>"
      ],
      "text/latex": [
       "'sd:  15.5558056505879'"
      ],
      "text/markdown": [
       "<span style=white-space:pre-wrap>'sd:  15.5558056505879'</span>"
      ],
      "text/plain": [
       "[1] \"sd:  15.5558056505879\""
      ]
     },
     "metadata": {},
     "output_type": "display_data"
    },
    {
     "data": {
      "text/html": [
       "<span style=white-space:pre-wrap>'var:  241.983089438863'</span>"
      ],
      "text/latex": [
       "'var:  241.983089438863'"
      ],
      "text/markdown": [
       "<span style=white-space:pre-wrap>'var:  241.983089438863'</span>"
      ],
      "text/plain": [
       "[1] \"var:  241.983089438863\""
      ]
     },
     "metadata": {},
     "output_type": "display_data"
    }
   ],
   "source": [
    "png(\"../img/configc/line_max.png\")\n",
    "       hist(line.max, \n",
    "     col = \"gray\",\n",
    "     main = \"Tamanho Máx das Filas\",\n",
    "     xlab =\"\")\n",
    "abline(v   = quantile(line.max, c(0.025, 0.5, 0.975)), \n",
    "       col = c(4, 2, 4), \n",
    "       lty = c(2, 1, 2), \n",
    "       lwd = 2)\n",
    "dev.off()\n",
    "\n",
    "summary(line.max)\n",
    "paste(\"sd: \", sqrt(var(line.max)))\n",
    "paste(\"var: \", var(line.max))"
   ]
  },
  {
   "cell_type": "code",
   "execution_count": 8,
   "metadata": {},
   "outputs": [
    {
     "data": {
      "text/html": [
       "<strong>png:</strong> 2"
      ],
      "text/latex": [
       "\\textbf{png:} 2"
      ],
      "text/markdown": [
       "**png:** 2"
      ],
      "text/plain": [
       "png \n",
       "  2 "
      ]
     },
     "metadata": {},
     "output_type": "display_data"
    },
    {
     "data": {
      "text/plain": [
       "   Min. 1st Qu.  Median    Mean 3rd Qu.    Max. \n",
       "  563.0   637.0   657.0   657.3   678.0   762.0 "
      ]
     },
     "metadata": {},
     "output_type": "display_data"
    },
    {
     "data": {
      "text/html": [
       "<span style=white-space:pre-wrap>'sd:  30.688952926755'</span>"
      ],
      "text/latex": [
       "'sd:  30.688952926755'"
      ],
      "text/markdown": [
       "<span style=white-space:pre-wrap>'sd:  30.688952926755'</span>"
      ],
      "text/plain": [
       "[1] \"sd:  30.688952926755\""
      ]
     },
     "metadata": {},
     "output_type": "display_data"
    },
    {
     "data": {
      "text/html": [
       "<span style=white-space:pre-wrap>'var:  941.811831740587'</span>"
      ],
      "text/latex": [
       "'var:  941.811831740587'"
      ],
      "text/markdown": [
       "<span style=white-space:pre-wrap>'var:  941.811831740587'</span>"
      ],
      "text/plain": [
       "[1] \"var:  941.811831740587\""
      ]
     },
     "metadata": {},
     "output_type": "display_data"
    }
   ],
   "source": [
    "\n",
    "par(mfrow = c(1,1))\n",
    "png(\"../img/configc/nao_atendidos.png\")\n",
    "       hist(n.natendidos, \n",
    "     col = \"gray\",\n",
    "     main = \"Não atendidos\",\n",
    "     xlab =\"\")\n",
    "abline(v   = quantile(n.natendidos, c(0.025, 0.5, 0.975)), \n",
    "       col = c(4, 2, 4), \n",
    "       lty = c(2, 1, 2), \n",
    "       lwd = 2)\n",
    "\n",
    "dev.off()\n",
    "\n",
    "summary(n.natendidos)\n",
    "paste(\"sd: \", sqrt(var(n.natendidos)))\n",
    "paste(\"var: \", var(n.natendidos))\n"
   ]
  }
 ],
 "metadata": {
  "kernelspec": {
   "display_name": "R",
   "language": "R",
   "name": "ir"
  },
  "language_info": {
   "codemirror_mode": "r",
   "file_extension": ".r",
   "mimetype": "text/x-r-source",
   "name": "R",
   "pygments_lexer": "r",
   "version": "4.1.0"
  },
  "orig_nbformat": 4
 },
 "nbformat": 4,
 "nbformat_minor": 2
}

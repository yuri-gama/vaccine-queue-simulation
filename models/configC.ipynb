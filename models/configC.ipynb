{
 "cells": [
  {
   "cell_type": "code",
   "execution_count": 17,
   "metadata": {},
   "outputs": [
    {
     "name": "stdout",
     "output_type": "stream",
     "text": [
      "[1] \"running\"\n",
      "[1] \"rodando main\"\n"
     ]
    }
   ],
   "source": [
    "source(\"main_config_c.R\", encoding=\"utf-8\")"
   ]
  },
  {
   "cell_type": "code",
   "execution_count": 18,
   "metadata": {},
   "outputs": [
    {
     "data": {
      "text/html": [
       "<strong>png:</strong> 2"
      ],
      "text/latex": [
       "\\textbf{png:} 2"
      ],
      "text/markdown": [
       "**png:** 2"
      ],
      "text/plain": [
       "png \n",
       "  2 "
      ]
     },
     "metadata": {},
     "output_type": "display_data"
    }
   ],
   "source": [
    "png(\"./img/configc/fila_1.png\")\n",
    "vector_times <- (c(0:((16-8)*2))*0.5 + 8)*3600\n",
    "text_vector_times <- hms::as_hms(vector_times)\n",
    "# Histogramas do primeiro estagio\n",
    "plot((lines[[1]]$t), (lines[[1]]$line_1), type = \"s\",\n",
    "  xlab = 't(s)', ylab = 'n', main = 'fila 1', col = rgb(0, 0, 0, 0.1), xaxt = \"n\")\n",
    "\n",
    "axis(1,                                                   # Add dates to x-axis\n",
    "     at = (vector_times - 28800), labels = text_vector_times, cex.axis = 0.75)\n",
    "\n",
    "for (i in 2:Nrep){\n",
    "  lines((lines[[i]]$t), (lines[[i]]$line_1), col = rgb(0, 0, 0, 0.1))\n",
    "}\n",
    "\n",
    "abline(v = 8*3600, lw = 2, col = 'red')\n",
    "abline(v = 8*3600 + 30*60, lw = 2, col = 'green')\n",
    "\n",
    "dev.off()\n",
    "\n"
   ]
  },
  {
   "cell_type": "code",
   "execution_count": 19,
   "metadata": {},
   "outputs": [
    {
     "data": {
      "text/html": [
       "<strong>png:</strong> 2"
      ],
      "text/latex": [
       "\\textbf{png:} 2"
      ],
      "text/markdown": [
       "**png:** 2"
      ],
      "text/plain": [
       "png \n",
       "  2 "
      ]
     },
     "metadata": {},
     "output_type": "display_data"
    }
   ],
   "source": [
    "png(\"./img/configc/fila_2.png\")\n",
    "\n",
    "plot((lines[[1]]$t), (lines[[1]]$line_2), type = \"s\",\n",
    "  xlab = 't(s)', ylab = 'n', main = 'fila 2', col = rgb(0, 0, 0, 0.1), xaxt = 'n')\n",
    "axis(1,                                                   # Add dates to x-axis\n",
    "     at = (vector_times - 28800), labels = text_vector_times, cex.axis = 0.75)\n",
    "\n",
    "\n",
    "for (i in 2:Nrep){\n",
    "  lines((lines[[i]]$t), (lines[[i]]$line_2), col = rgb(0, 0, 0, 0.1))\n",
    "}\n",
    "\n",
    "abline(v = 8*3600, lw = 2, col = 'red')\n",
    "abline(v = 8*3600 + 30*60, lw = 2, col = 'green')\n",
    "\n",
    "dev.off()"
   ]
  },
  {
   "cell_type": "code",
   "execution_count": 20,
   "metadata": {},
   "outputs": [
    {
     "data": {
      "text/html": [
       "<strong>png:</strong> 2"
      ],
      "text/latex": [
       "\\textbf{png:} 2"
      ],
      "text/markdown": [
       "**png:** 2"
      ],
      "text/plain": [
       "png \n",
       "  2 "
      ]
     },
     "metadata": {},
     "output_type": "display_data"
    },
    {
     "data": {
      "text/plain": [
       "   Min. 1st Qu.  Median    Mean 3rd Qu.    Max. \n",
       "  201.0   212.0   215.0   215.1   218.0   232.0 "
      ]
     },
     "metadata": {},
     "output_type": "display_data"
    },
    {
     "data": {
      "text/html": [
       "<span style=white-space:pre-wrap>'var:  19.7233018051131'</span>"
      ],
      "text/latex": [
       "'var:  19.7233018051131'"
      ],
      "text/markdown": [
       "<span style=white-space:pre-wrap>'var:  19.7233018051131'</span>"
      ],
      "text/plain": [
       "[1] \"var:  19.7233018051131\""
      ]
     },
     "metadata": {},
     "output_type": "display_data"
    },
    {
     "data": {
      "text/html": [
       "<span style=white-space:pre-wrap>'desvio padrão:  4.4410924112332'</span>"
      ],
      "text/latex": [
       "'desvio padrão:  4.4410924112332'"
      ],
      "text/markdown": [
       "<span style=white-space:pre-wrap>'desvio padrão:  4.4410924112332'</span>"
      ],
      "text/plain": [
       "[1] \"desvio padrão:  4.4410924112332\""
      ]
     },
     "metadata": {},
     "output_type": "display_data"
    }
   ],
   "source": [
    "\n",
    "png(\"./img/configc/pacientes_atendidos.png\")\n",
    "\n",
    "hist(n.pac, \n",
    "     col = \"gray\", \n",
    "     main = \"No. de pacientes atendidos\",\n",
    "     xlab =\"\")\n",
    "\n",
    "abline(v   = quantile(n.pac, c(0.025, 0.5, 0.975)), \n",
    "       col = c(4, 2, 4), \n",
    "       lty = c(2, 1, 2), \n",
    "       lwd = 2)\n",
    "\n",
    "dev.off()      \n",
    " \n",
    "summary(n.pac)\n",
    "paste(\"var: \", var(n.pac))\n",
    "paste(\"desvio padrão: \", sqrt(var(n.pac)))\n",
    "   "
   ]
  },
  {
   "cell_type": "code",
   "execution_count": 21,
   "metadata": {},
   "outputs": [
    {
     "data": {
      "text/html": [
       "<strong>png:</strong> 2"
      ],
      "text/latex": [
       "\\textbf{png:} 2"
      ],
      "text/markdown": [
       "**png:** 2"
      ],
      "text/plain": [
       "png \n",
       "  2 "
      ]
     },
     "metadata": {},
     "output_type": "display_data"
    },
    {
     "data": {
      "text/plain": [
       "   Min. 1st Qu.  Median    Mean 3rd Qu.    Max. \n",
       "  17.50   17.53   17.55   17.55   17.57   17.71 "
      ]
     },
     "metadata": {},
     "output_type": "display_data"
    },
    {
     "data": {
      "text/html": [
       "<span style=white-space:pre-wrap>'sd:  0.0293395462889061'</span>"
      ],
      "text/latex": [
       "'sd:  0.0293395462889061'"
      ],
      "text/markdown": [
       "<span style=white-space:pre-wrap>'sd:  0.0293395462889061'</span>"
      ],
      "text/plain": [
       "[1] \"sd:  0.0293395462889061\""
      ]
     },
     "metadata": {},
     "output_type": "display_data"
    },
    {
     "data": {
      "text/html": [
       "<span style=white-space:pre-wrap>'var:  0.000860808976438866'</span>"
      ],
      "text/latex": [
       "'var:  0.000860808976438866'"
      ],
      "text/markdown": [
       "<span style=white-space:pre-wrap>'var:  0.000860808976438866'</span>"
      ],
      "text/plain": [
       "[1] \"var:  0.000860808976438866\""
      ]
     },
     "metadata": {},
     "output_type": "display_data"
    }
   ],
   "source": [
    "    \n",
    "png(\"./img/configc/tempo_fechamento.png\")\n",
    "\n",
    "       hist(t.fim/3600, \n",
    "     col = \"gray\",\n",
    "     main = \"Tempo de Fechamento da Clinica (h)\",\n",
    "     xlab =\"\")\n",
    "abline(v   = quantile(t.fim/3600, c(0.025, 0.5, 0.975)), \n",
    "       col = c(4, 2, 4), \n",
    "       lty = c(2, 1, 2), \n",
    "       lwd = 2)\n",
    "\n",
    "dev.off()\n",
    "summary(t.fim/3600)     \n",
    "paste(\"sd: \", sqrt(var(t.fim/3600)))\n",
    "paste(\"var: \", var(t.fim/3600))"
   ]
  },
  {
   "cell_type": "code",
   "execution_count": 22,
   "metadata": {},
   "outputs": [
    {
     "data": {
      "text/html": [
       "<strong>png:</strong> 2"
      ],
      "text/latex": [
       "\\textbf{png:} 2"
      ],
      "text/markdown": [
       "**png:** 2"
      ],
      "text/plain": [
       "png \n",
       "  2 "
      ]
     },
     "metadata": {},
     "output_type": "display_data"
    },
    {
     "data": {
      "text/plain": [
       "   Min. 1st Qu.  Median    Mean 3rd Qu.    Max. \n",
       "  176.4   192.8   196.8   196.7   200.9   216.6 "
      ]
     },
     "metadata": {},
     "output_type": "display_data"
    },
    {
     "data": {
      "text/html": [
       "<span style=white-space:pre-wrap>'sd:  5.97629728609843'</span>"
      ],
      "text/latex": [
       "'sd:  5.97629728609843'"
      ],
      "text/markdown": [
       "<span style=white-space:pre-wrap>'sd:  5.97629728609843'</span>"
      ],
      "text/plain": [
       "[1] \"sd:  5.97629728609843\""
      ]
     },
     "metadata": {},
     "output_type": "display_data"
    },
    {
     "data": {
      "text/html": [
       "<span style=white-space:pre-wrap>'var:  35.7161292518275'</span>"
      ],
      "text/latex": [
       "'var:  35.7161292518275'"
      ],
      "text/markdown": [
       "<span style=white-space:pre-wrap>'var:  35.7161292518275'</span>"
      ],
      "text/plain": [
       "[1] \"var:  35.7161292518275\""
      ]
     },
     "metadata": {},
     "output_type": "display_data"
    }
   ],
   "source": [
    "png(\"./img/configc/tempo_medio_servico.png\")\n",
    "par(mfrow = c(1,1))\n",
    "\n",
    "hist(t.total.servico/60, \n",
    "     col = \"gray\",\n",
    "     main = \"Tempo médio de Serviço (min)\",\n",
    "     xlab =\"\")\n",
    "abline(v   = quantile(t.total.servico/60, c(0.025, 0.5, 0.975)), \n",
    "       col = c(4, 2, 4), \n",
    "       lty = c(2, 1, 2), \n",
    "       lwd = 2)\n",
    "\n",
    "dev.off()\n",
    "\n",
    "summary(t.total.servico/60)\n",
    "paste(\"sd: \", sqrt(var(t.total.servico/60)))\n",
    "paste(\"var: \", var(t.total.servico/60))"
   ]
  }
 ],
 "metadata": {
  "kernelspec": {
   "display_name": "R",
   "language": "R",
   "name": "ir"
  },
  "language_info": {
   "codemirror_mode": "r",
   "file_extension": ".r",
   "mimetype": "text/x-r-source",
   "name": "R",
   "pygments_lexer": "r",
   "version": "4.1.0"
  },
  "orig_nbformat": 4
 },
 "nbformat": 4,
 "nbformat_minor": 2
}

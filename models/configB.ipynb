{
 "cells": [
  {
   "cell_type": "markdown",
   "metadata": {},
   "source": [
    "# Config B"
   ]
  },
  {
   "cell_type": "code",
   "execution_count": 1,
   "metadata": {},
   "outputs": [
    {
     "name": "stderr",
     "output_type": "stream",
     "text": [
      "\n",
      "Attaching package: 'dplyr'\n",
      "\n",
      "\n",
      "The following objects are masked from 'package:stats':\n",
      "\n",
      "    filter, lag\n",
      "\n",
      "\n",
      "The following objects are masked from 'package:base':\n",
      "\n",
      "    intersect, setdiff, setequal, union\n",
      "\n",
      "\n",
      "Warning message:\n",
      "\"package 'RJSONIO' was built under R version 4.1.1\"\n"
     ]
    },
    {
     "name": "stdout",
     "output_type": "stream",
     "text": [
      "[1] \"running\"\n",
      "[1] \"rodando main\"\n"
     ]
    }
   ],
   "source": [
    "source(\"main_config_b.R\", encoding=\"utf-8\")"
   ]
  },
  {
   "cell_type": "code",
   "execution_count": 2,
   "metadata": {},
   "outputs": [
    {
     "data": {
      "text/html": [
       "<strong>png:</strong> 2"
      ],
      "text/latex": [
       "\\textbf{png:} 2"
      ],
      "text/markdown": [
       "**png:** 2"
      ],
      "text/plain": [
       "png \n",
       "  2 "
      ]
     },
     "metadata": {},
     "output_type": "display_data"
    }
   ],
   "source": [
    "png(\"../img/configb/fila_primeiro_estagio.png\")\n",
    "vector_times <- (c(0:((17-8)*2))*0.5 + 8)*3600\n",
    "text_vector_times <- hms::as_hms(vector_times)\n",
    "\n",
    "text_vector_times <- c(\"8h\", \"8h30\", \"9h\", \"9h30\", \"10h\", \"10h30\", \"11h\", \"11h30\", \"12h\", \"12h30\", \"13h\", \"13h30\", \"14h\", \"14h30\",\n",
    "                         \"15h\", \"15h30\", \"16h\", \"16h30\", \"17h\")\n",
    "# Histogramas do primeiro estagio\n",
    "plot((lines[[1]]$t), (lines[[1]]$line_1), type = \"s\",\n",
    "  xlab = 'Hora ao longo do dia', ylab = 'n', main = 'Fila documentação', col = rgb(0, 0, 0, 0.1), xaxt = \"n\", ylim = c(0,42), xlim = c(0, (17-8)*3600))\n",
    "\n",
    "axis(1,                                                   # Add dates to x-axis\n",
    "     at = (vector_times - 28800), labels = text_vector_times, cex.axis = 0.75)\n",
    "\n",
    "for (i in 2:Nrep){\n",
    "  lines((lines[[i]]$t), (lines[[i]]$line_1), col = rgb(0, 0, 0, 0.1))\n",
    "}\n",
    "\n",
    "abline(v = (t.fechou-8)*3600 , lw = 2, col = 'green')\n",
    "\n",
    "dev.off()\n"
   ]
  },
  {
   "cell_type": "code",
   "execution_count": 3,
   "metadata": {},
   "outputs": [
    {
     "data": {
      "text/html": [
       "<strong>png:</strong> 2"
      ],
      "text/latex": [
       "\\textbf{png:} 2"
      ],
      "text/markdown": [
       "**png:** 2"
      ],
      "text/plain": [
       "png \n",
       "  2 "
      ]
     },
     "metadata": {},
     "output_type": "display_data"
    },
    {
     "data": {
      "text/plain": [
       "   Min. 1st Qu.  Median    Mean 3rd Qu.    Max. \n",
       "  216.0   229.0   232.0   232.3   236.0   250.0 "
      ]
     },
     "metadata": {},
     "output_type": "display_data"
    },
    {
     "data": {
      "text/html": [
       "<span style=white-space:pre-wrap>'var:  27.7031868006208'</span>"
      ],
      "text/latex": [
       "'var:  27.7031868006208'"
      ],
      "text/markdown": [
       "<span style=white-space:pre-wrap>'var:  27.7031868006208'</span>"
      ],
      "text/plain": [
       "[1] \"var:  27.7031868006208\""
      ]
     },
     "metadata": {},
     "output_type": "display_data"
    },
    {
     "data": {
      "text/html": [
       "<span style=white-space:pre-wrap>'desvio padrão:  5.26338168866944'</span>"
      ],
      "text/latex": [
       "'desvio padrão:  5.26338168866944'"
      ],
      "text/markdown": [
       "<span style=white-space:pre-wrap>'desvio padrão:  5.26338168866944'</span>"
      ],
      "text/plain": [
       "[1] \"desvio padrão:  5.26338168866944\""
      ]
     },
     "metadata": {},
     "output_type": "display_data"
    }
   ],
   "source": [
    "\n",
    "png(\"../img/configb/pacientes_atendidos.png\")\n",
    "par(mfrow = c(1,1))\n",
    "hist(n.pac, \n",
    "     col = \"gray\", \n",
    "     main = \"No. de pacientes atendidos\",\n",
    "     xlab =\"\")\n",
    "\n",
    "abline(v   = quantile(n.pac, c(0.025, 0.5, 0.975)), \n",
    "       col = c(4, 2, 4), \n",
    "       lty = c(2, 1, 2), \n",
    "       lwd = 2)\n",
    "  \n",
    "dev.off()      \n",
    " \n",
    "summary(n.pac)\n",
    "paste(\"var: \", var(n.pac))\n",
    "paste(\"desvio padrão: \", sqrt(var(n.pac)))\n",
    "\n"
   ]
  },
  {
   "cell_type": "code",
   "execution_count": 4,
   "metadata": {},
   "outputs": [
    {
     "data": {
      "text/html": [
       "<strong>png:</strong> 2"
      ],
      "text/latex": [
       "\\textbf{png:} 2"
      ],
      "text/markdown": [
       "**png:** 2"
      ],
      "text/plain": [
       "png \n",
       "  2 "
      ]
     },
     "metadata": {},
     "output_type": "display_data"
    }
   ],
   "source": [
    "\n",
    "png(\"../img/configb/fila_segundo_estagio.png\")\n",
    "vector_times <- (c(0:((16-8)*8)) + 8)*3600\n",
    "xmax_time <- max(vector_times) - 28800\n",
    "\n",
    "text_vector_times <- paste((c(0:((16-8)*8)) + 8),\"h\", sep = \"\")\n",
    "\n",
    "par(mfrow = c(1,1))\n",
    "plot((lines2[[1]]$t), (lines2[[1]]$line_1), type = \"s\",\n",
    "  xlab = 'Hora ao longo do dia', ylab = 'n', main = 'Fila médico 1', col = rgb(0, 0, 0, 0.1), xaxt = 'n', ylim = c(0,100), xlim = c(0, (17-8)*3600))\n",
    "axis(1,                                                   # Add dates to x-axis\n",
    "     at = (vector_times - 28800), labels = text_vector_times, cex.axis = 0.75)\n",
    "\n",
    "for (i in 2:Nrep){\n",
    "  lines((lines2[[i]]$t), (lines2[[i]]$line_1), col = rgb(0, 0, 0, 0.1))\n",
    "}\n",
    "\n",
    "abline(v = (t.fechou-8)*3600, lw = 2, col = 'green')\n",
    "\n",
    "dev.off()\n",
    "\n"
   ]
  },
  {
   "cell_type": "code",
   "execution_count": 5,
   "metadata": {},
   "outputs": [
    {
     "data": {
      "text/html": [
       "<strong>png:</strong> 2"
      ],
      "text/latex": [
       "\\textbf{png:} 2"
      ],
      "text/markdown": [
       "**png:** 2"
      ],
      "text/plain": [
       "png \n",
       "  2 "
      ]
     },
     "metadata": {},
     "output_type": "display_data"
    },
    {
     "data": {
      "text/plain": [
       "   Min. 1st Qu.  Median    Mean 3rd Qu.    Max. \n",
       "  16.59   17.09   17.24   17.24   17.39   18.05 "
      ]
     },
     "metadata": {},
     "output_type": "display_data"
    },
    {
     "data": {
      "text/html": [
       "<span style=white-space:pre-wrap>'sd:  0.219597313171713'</span>"
      ],
      "text/latex": [
       "'sd:  0.219597313171713'"
      ],
      "text/markdown": [
       "<span style=white-space:pre-wrap>'sd:  0.219597313171713'</span>"
      ],
      "text/plain": [
       "[1] \"sd:  0.219597313171713\""
      ]
     },
     "metadata": {},
     "output_type": "display_data"
    },
    {
     "data": {
      "text/html": [
       "<span style=white-space:pre-wrap>'var:  0.0482229799522356'</span>"
      ],
      "text/latex": [
       "'var:  0.0482229799522356'"
      ],
      "text/markdown": [
       "<span style=white-space:pre-wrap>'var:  0.0482229799522356'</span>"
      ],
      "text/plain": [
       "[1] \"var:  0.0482229799522356\""
      ]
     },
     "metadata": {},
     "output_type": "display_data"
    }
   ],
   "source": [
    "\n",
    "       png(\"../img/configb/tempo_fechamento.png\")\n",
    "       \n",
    "       hist(t.fim2/3600, \n",
    "     col = \"gray\",\n",
    "     main = \"Tempo de Fechamento da Clinica (h)\",\n",
    "     xlab =\"\")\n",
    "abline(v   = quantile(t.fim2/3600, c(0.025, 0.5, 0.975)), \n",
    "       col = c(4, 2, 4), \n",
    "       lty = c(2, 1, 2), \n",
    "       lwd = 2)\n",
    "\n",
    "       dev.off()\n",
    "\n",
    "summary(t.fim2/3600)     \n",
    "paste(\"sd: \", sqrt(var(t.fim2/3600)))\n",
    "paste(\"var: \", var(t.fim2/3600))"
   ]
  },
  {
   "cell_type": "code",
   "execution_count": 6,
   "metadata": {},
   "outputs": [
    {
     "data": {
      "text/html": [
       "<strong>png:</strong> 2"
      ],
      "text/latex": [
       "\\textbf{png:} 2"
      ],
      "text/markdown": [
       "**png:** 2"
      ],
      "text/plain": [
       "png \n",
       "  2 "
      ]
     },
     "metadata": {},
     "output_type": "display_data"
    },
    {
     "data": {
      "text/plain": [
       "   Min. 1st Qu.  Median    Mean 3rd Qu.    Max. \n",
       "  25.00   67.00   79.00   79.52   91.00  159.00 "
      ]
     },
     "metadata": {},
     "output_type": "display_data"
    },
    {
     "data": {
      "text/html": [
       "<span style=white-space:pre-wrap>'sd:  17.9884804454069'</span>"
      ],
      "text/latex": [
       "'sd:  17.9884804454069'"
      ],
      "text/markdown": [
       "<span style=white-space:pre-wrap>'sd:  17.9884804454069'</span>"
      ],
      "text/plain": [
       "[1] \"sd:  17.9884804454069\""
      ]
     },
     "metadata": {},
     "output_type": "display_data"
    },
    {
     "data": {
      "text/html": [
       "<span style=white-space:pre-wrap>'var:  323.585428734787'</span>"
      ],
      "text/latex": [
       "'var:  323.585428734787'"
      ],
      "text/markdown": [
       "<span style=white-space:pre-wrap>'var:  323.585428734787'</span>"
      ],
      "text/plain": [
       "[1] \"var:  323.585428734787\""
      ]
     },
     "metadata": {},
     "output_type": "display_data"
    }
   ],
   "source": [
    "\n",
    "par(mfrow = c(1,1))\n",
    "png(\"../img/configb/nao_atendidos.png\")\n",
    "       hist(n.natendidos, \n",
    "     col = \"gray\",\n",
    "     main = \"Não atendidos\",\n",
    "     xlab =\"\")\n",
    "abline(v   = quantile(n.natendidos, c(0.025, 0.5, 0.975)), \n",
    "       col = c(4, 2, 4), \n",
    "       lty = c(2, 1, 2), \n",
    "       lwd = 2)\n",
    "\n",
    "dev.off()\n",
    "\n",
    "summary(n.natendidos)\n",
    "paste(\"sd: \", sqrt(var(n.natendidos)))\n",
    "paste(\"var: \", var(n.natendidos))\n"
   ]
  },
  {
   "cell_type": "code",
   "execution_count": 7,
   "metadata": {},
   "outputs": [
    {
     "data": {
      "text/html": [
       "<strong>png:</strong> 2"
      ],
      "text/latex": [
       "\\textbf{png:} 2"
      ],
      "text/markdown": [
       "**png:** 2"
      ],
      "text/plain": [
       "png \n",
       "  2 "
      ]
     },
     "metadata": {},
     "output_type": "display_data"
    },
    {
     "data": {
      "text/plain": [
       "   Min. 1st Qu.  Median    Mean 3rd Qu.    Max. \n",
       "  14.00   36.00   42.00   42.08   48.00   81.00 "
      ]
     },
     "metadata": {},
     "output_type": "display_data"
    },
    {
     "data": {
      "text/html": [
       "<span style=white-space:pre-wrap>'sd:  9.01071675381846'</span>"
      ],
      "text/latex": [
       "'sd:  9.01071675381846'"
      ],
      "text/markdown": [
       "<span style=white-space:pre-wrap>'sd:  9.01071675381846'</span>"
      ],
      "text/plain": [
       "[1] \"sd:  9.01071675381846\""
      ]
     },
     "metadata": {},
     "output_type": "display_data"
    },
    {
     "data": {
      "text/html": [
       "<span style=white-space:pre-wrap>'var:  81.1930164175447'</span>"
      ],
      "text/latex": [
       "'var:  81.1930164175447'"
      ],
      "text/markdown": [
       "<span style=white-space:pre-wrap>'var:  81.1930164175447'</span>"
      ],
      "text/plain": [
       "[1] \"var:  81.1930164175447\""
      ]
     },
     "metadata": {},
     "output_type": "display_data"
    }
   ],
   "source": [
    "png(\"../img/configb/line_max1.png\")\n",
    "       hist(line.max, \n",
    "     col = \"gray\",\n",
    "     main = \"Tamanho Máx das Filas - Estágio 1\",\n",
    "     xlab =\"\")\n",
    "abline(v   = quantile(line.max, c(0.025, 0.5, 0.975)), \n",
    "       col = c(4, 2, 4), \n",
    "       lty = c(2, 1, 2), \n",
    "       lwd = 2)\n",
    "dev.off()\n",
    "\n",
    "summary(line.max)\n",
    "paste(\"sd: \", sqrt(var(line.max)))\n",
    "paste(\"var: \", var(line.max))"
   ]
  },
  {
   "cell_type": "code",
   "execution_count": 8,
   "metadata": {},
   "outputs": [
    {
     "data": {
      "text/html": [
       "<strong>png:</strong> 2"
      ],
      "text/latex": [
       "\\textbf{png:} 2"
      ],
      "text/markdown": [
       "**png:** 2"
      ],
      "text/plain": [
       "png \n",
       "  2 "
      ]
     },
     "metadata": {},
     "output_type": "display_data"
    },
    {
     "data": {
      "text/plain": [
       "   Min. 1st Qu.  Median    Mean 3rd Qu.    Max. \n",
       "  107.0   115.0   118.0   117.6   120.0   131.0 "
      ]
     },
     "metadata": {},
     "output_type": "display_data"
    },
    {
     "data": {
      "text/html": [
       "<span style=white-space:pre-wrap>'sd:  3.23831408324956'</span>"
      ],
      "text/latex": [
       "'sd:  3.23831408324956'"
      ],
      "text/markdown": [
       "<span style=white-space:pre-wrap>'sd:  3.23831408324956'</span>"
      ],
      "text/plain": [
       "[1] \"sd:  3.23831408324956\""
      ]
     },
     "metadata": {},
     "output_type": "display_data"
    },
    {
     "data": {
      "text/html": [
       "<span style=white-space:pre-wrap>'var:  10.4866781017724'</span>"
      ],
      "text/latex": [
       "'var:  10.4866781017724'"
      ],
      "text/markdown": [
       "<span style=white-space:pre-wrap>'var:  10.4866781017724'</span>"
      ],
      "text/plain": [
       "[1] \"var:  10.4866781017724\""
      ]
     },
     "metadata": {},
     "output_type": "display_data"
    }
   ],
   "source": [
    "png(\"../img/configb/line_max2.png\")\n",
    "       hist(line.max2, \n",
    "     col = \"gray\",\n",
    "     main = \"Tamanho Máx das Filas - Estágio 2\",\n",
    "     xlab =\"\")\n",
    "abline(v   = quantile(line.max2, c(0.025, 0.5, 0.975)), \n",
    "       col = c(4, 2, 4), \n",
    "       lty = c(2, 1, 2), \n",
    "       lwd = 2)\n",
    "dev.off()\n",
    "\n",
    "summary(line.max2)\n",
    "paste(\"sd: \", sqrt(var(line.max2)))\n",
    "paste(\"var: \", var(line.max2))"
   ]
  },
  {
   "cell_type": "code",
   "execution_count": 9,
   "metadata": {},
   "outputs": [
    {
     "data": {
      "text/html": [
       "<strong>png:</strong> 2"
      ],
      "text/latex": [
       "\\textbf{png:} 2"
      ],
      "text/markdown": [
       "**png:** 2"
      ],
      "text/plain": [
       "png \n",
       "  2 "
      ]
     },
     "metadata": {},
     "output_type": "display_data"
    },
    {
     "data": {
      "text/plain": [
       "   Min. 1st Qu.  Median    Mean 3rd Qu.    Max. \n",
       "  274.8   295.7   301.4   301.5   307.3   331.6 "
      ]
     },
     "metadata": {},
     "output_type": "display_data"
    },
    {
     "data": {
      "text/html": [
       "<span style=white-space:pre-wrap>'sd:  8.58947222443546'</span>"
      ],
      "text/latex": [
       "'sd:  8.58947222443546'"
      ],
      "text/markdown": [
       "<span style=white-space:pre-wrap>'sd:  8.58947222443546'</span>"
      ],
      "text/plain": [
       "[1] \"sd:  8.58947222443546\""
      ]
     },
     "metadata": {},
     "output_type": "display_data"
    },
    {
     "data": {
      "text/html": [
       "<span style=white-space:pre-wrap>'var:  73.7790330943483'</span>"
      ],
      "text/latex": [
       "'var:  73.7790330943483'"
      ],
      "text/markdown": [
       "<span style=white-space:pre-wrap>'var:  73.7790330943483'</span>"
      ],
      "text/plain": [
       "[1] \"var:  73.7790330943483\""
      ]
     },
     "metadata": {},
     "output_type": "display_data"
    }
   ],
   "source": [
    "png(\"../img/configb/tempo_medio_servico.png\")\n",
    "par(mfrow = c(1,1))\n",
    "\n",
    "hist(t.total.servico/60, \n",
    "     col = \"gray\",\n",
    "     main = \"Tempo médio de Serviço (min)\",\n",
    "     xlab =\"\")\n",
    "abline(v   = quantile(t.total.servico/60, c(0.025, 0.5, 0.975)), \n",
    "       col = c(4, 2, 4), \n",
    "       lty = c(2, 1, 2), \n",
    "       lwd = 2)\n",
    "\n",
    "dev.off()\n",
    "\n",
    "summary(t.total.servico/60)\n",
    "paste(\"sd: \", sqrt(var(t.total.servico/60)))\n",
    "paste(\"var: \", var(t.total.servico/60))"
   ]
  }
 ],
 "metadata": {
  "kernelspec": {
   "display_name": "R",
   "language": "R",
   "name": "ir"
  },
  "language_info": {
   "codemirror_mode": "r",
   "file_extension": ".r",
   "mimetype": "text/x-r-source",
   "name": "R",
   "pygments_lexer": "r",
   "version": "4.1.0"
  },
  "orig_nbformat": 4
 },
 "nbformat": 4,
 "nbformat_minor": 2
}
